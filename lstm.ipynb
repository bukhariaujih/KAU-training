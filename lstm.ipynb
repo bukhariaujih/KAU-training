{
  "nbformat": 4,
  "nbformat_minor": 0,
  "metadata": {
    "colab": {
      "name": "lstm.ipynb",
      "version": "0.3.2",
      "provenance": [],
      "include_colab_link": true
    },
    "kernelspec": {
      "name": "python3",
      "display_name": "Python 3"
    },
    "accelerator": "GPU"
  },
  "cells": [
    {
      "cell_type": "markdown",
      "metadata": {
        "id": "view-in-github",
        "colab_type": "text"
      },
      "source": [
        "<a href=\"https://colab.research.google.com/github/bukhariaujih/KAU-training/blob/master/lstm.ipynb\" target=\"_parent\"><img src=\"https://colab.research.google.com/assets/colab-badge.svg\" alt=\"Open In Colab\"/></a>"
      ]
    },
    {
      "cell_type": "code",
      "metadata": {
        "id": "FoEAmpg-eb3x",
        "colab_type": "code",
        "colab": {}
      },
      "source": [
        "# !pip install pandas\n",
        "# !pip install scikit-learn"
      ],
      "execution_count": 0,
      "outputs": []
    },
    {
      "cell_type": "code",
      "metadata": {
        "id": "O2JXfbIHejE5",
        "colab_type": "code",
        "outputId": "995dac07-e750-437a-fc29-eca75e6e667d",
        "colab": {
          "base_uri": "https://localhost:8080/",
          "height": 34
        }
      },
      "source": [
        "from google.colab import drive\n",
        "drive.mount('/content/drive')"
      ],
      "execution_count": 0,
      "outputs": [
        {
          "output_type": "stream",
          "text": [
            "Drive already mounted at /content/drive; to attempt to forcibly remount, call drive.mount(\"/content/drive\", force_remount=True).\n"
          ],
          "name": "stdout"
        }
      ]
    },
    {
      "cell_type": "code",
      "metadata": {
        "id": "2EAeZMo-egu0",
        "colab_type": "code",
        "colab": {}
      },
      "source": [
        "import random\n",
        "\n",
        "import math\n",
        "\n",
        "import itertools\n",
        "\n",
        "import numpy as np\n",
        "\n",
        "import pandas as pd\n",
        "\n",
        "from sklearn import preprocessing\n",
        "from sklearn.preprocessing import StandardScaler\n",
        "from sklearn.model_selection import StratifiedShuffleSplit\n",
        "\n",
        "from tensorflow.keras.models import Sequential, load_model\n",
        "from tensorflow.keras.layers import Dense, Dropout\n",
        "from tensorflow.keras.layers import Embedding\n",
        "from tensorflow.keras.layers import LSTM\n",
        "\n",
        "import os"
      ],
      "execution_count": 0,
      "outputs": []
    },
    {
      "cell_type": "code",
      "metadata": {
        "id": "xqjwR1ftehDs",
        "colab_type": "code",
        "colab": {}
      },
      "source": [
        "# setting the random seed for reproducibility\n",
        "seed=42\n",
        "random.seed(seed)\n",
        "# dataset and model parameters\n",
        "samples = 3625  # how many trials of eeg data\n",
        "n_features = 32  # how many channels of eeg in each sample\n",
        "time_steps = 1300 # how many ms was each sample run for"
      ],
      "execution_count": 0,
      "outputs": []
    },
    {
      "cell_type": "code",
      "metadata": {
        "id": "udpv_w7tehV0",
        "colab_type": "code",
        "colab": {}
      },
      "source": [
        "def one_hot_events(events):\n",
        "    # helper function for one-hot encoding the events\n",
        "    events_list = list(events)\n",
        "    lb = preprocessing.LabelBinarizer()\n",
        "    lb.fit(events_list)\n",
        "    events_1hot = lb.transform(events_list)\n",
        "    return events_1hot, lb\n"
      ],
      "execution_count": 0,
      "outputs": []
    },
    {
      "cell_type": "code",
      "metadata": {
        "id": "QyPVpgy5ehpc",
        "colab_type": "code",
        "colab": {}
      },
      "source": [
        "X = np.load('./drive/My Drive/training_1/Data/signal/X.npy')\n",
        "y = np.load('./drive/My Drive/training_1/Data/signal/y_int.npy')"
      ],
      "execution_count": 0,
      "outputs": []
    },
    {
      "cell_type": "code",
      "metadata": {
        "id": "aLT8OBiQehsV",
        "colab_type": "code",
        "colab": {}
      },
      "source": [
        "# removes the minor event types. There were only a couple hundred examples of each, whereas the used events had a \n",
        "# couple thousand examples\n",
        "remove_list = [0,2,4,5,6]              # designate unwanted event types\n",
        "# drop_list = np.isin(y, remove_list)    # create a list of indices associated with unwanted events                  \n",
        "# drop_array = np.array(drop_list)       # make the list of indices to drop into an array"
      ],
      "execution_count": 0,
      "outputs": []
    },
    {
      "cell_type": "code",
      "metadata": {
        "id": "QwOOMVSSehvU",
        "colab_type": "code",
        "colab": {}
      },
      "source": [
        "# make X, y's with the unwanted events removed\n",
        "y_short_int = y[np.isin(y,remove_list, invert=True)]\n",
        "X_short = X[np.isin(y, remove_list, invert=True)]"
      ],
      "execution_count": 0,
      "outputs": []
    },
    {
      "cell_type": "code",
      "metadata": {
        "id": "L3l1IqwIehyU",
        "colab_type": "code",
        "colab": {}
      },
      "source": [
        "# one hot encode the y data without the unwanted events\n",
        "y_short, _ = one_hot_events(y_short_int) "
      ],
      "execution_count": 0,
      "outputs": []
    },
    {
      "cell_type": "code",
      "metadata": {
        "id": "HbHwspT3eh1U",
        "colab_type": "code",
        "outputId": "66b0686c-8406-4821-8e94-30fae4c32d79",
        "colab": {
          "base_uri": "https://localhost:8080/",
          "height": 34
        }
      },
      "source": [
        "# use strat. shuffle split to get indices for test and training data \n",
        "sss = StratifiedShuffleSplit(n_splits=2, test_size=0.2, random_state=seed)\n",
        "sss.get_n_splits(X_short, y_short)"
      ],
      "execution_count": 0,
      "outputs": [
        {
          "output_type": "execute_result",
          "data": {
            "text/plain": [
              "2"
            ]
          },
          "metadata": {
            "tags": []
          },
          "execution_count": 10
        }
      ]
    },
    {
      "cell_type": "code",
      "metadata": {
        "id": "SQFV-m3Qeh4c",
        "colab_type": "code",
        "colab": {}
      },
      "source": [
        "# take the indices generated by stratified shuffle split and make the test and training datasets\n",
        "for train_index, test_index in sss.split(X_short, y_short):\n",
        "    #print(\"TRAIN:\", train_index, \"TEST:\", test_index)\n",
        "    X_train, X_test = X_short[train_index], X_short[test_index]\n",
        "    y_train, y_test = y_short[train_index], y_short[test_index]"
      ],
      "execution_count": 0,
      "outputs": []
    },
    {
      "cell_type": "code",
      "metadata": {
        "id": "ePmqlDCOeh7c",
        "colab_type": "code",
        "colab": {}
      },
      "source": [
        "# Build LSTM with 100 neurons and dropout.\n",
        "model = Sequential()\n",
        "model.add(LSTM(100, return_sequences=False, input_shape=(time_steps, n_features)))\n",
        "model.add(Dropout(0.2))\n",
        "model.add(Dense(1, activation='sigmoid'))\n",
        "\n",
        "model.compile(loss='binary_crossentropy',\n",
        "              optimizer='rmsprop',\n",
        "              metrics=['accuracy'])\n",
        "\n",
        "model.summary()"
      ],
      "execution_count": 0,
      "outputs": []
    },
    {
      "cell_type": "code",
      "metadata": {
        "id": "lLf1heeiCY28",
        "colab_type": "code",
        "colab": {}
      },
      "source": [
        "!mkdir ./output"
      ],
      "execution_count": 0,
      "outputs": []
    },
    {
      "cell_type": "code",
      "metadata": {
        "id": "yHFbNpSQeh-U",
        "colab_type": "code",
        "colab": {}
      },
      "source": [
        "model.fit(X_train, y_train, batch_size=64, epochs=5)\n",
        "  \n",
        "model.save('./output/my_model.h5')  # Save model\n",
        "del model  # Clear memory"
      ],
      "execution_count": 0,
      "outputs": []
    },
    {
      "cell_type": "code",
      "metadata": {
        "id": "qURK2o69e7FS",
        "colab_type": "code",
        "colab": {}
      },
      "source": [
        "model = load_model('./output/my_model.h5')\n",
        "score = model.evaluate(X_test, y_test, batch_size=16)\n",
        "score"
      ],
      "execution_count": 0,
      "outputs": []
    },
    {
      "cell_type": "code",
      "metadata": {
        "id": "xv8l55F9e7JV",
        "colab_type": "code",
        "colab": {}
      },
      "source": [
        "print(\"Accuracy: %.2f%%\" % (score[1]*100))"
      ],
      "execution_count": 0,
      "outputs": []
    },
    {
      "cell_type": "code",
      "metadata": {
        "id": "V6RAmstDeiG0",
        "colab_type": "code",
        "colab": {}
      },
      "source": [
        ""
      ],
      "execution_count": 0,
      "outputs": []
    }
  ]
}