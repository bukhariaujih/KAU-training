{
  "nbformat": 4,
  "nbformat_minor": 0,
  "metadata": {
    "colab": {
      "name": "Untitled0.ipynb",
      "version": "0.3.2",
      "provenance": [],
      "collapsed_sections": [],
      "include_colab_link": true
    },
    "kernelspec": {
      "name": "python3",
      "display_name": "Python 3"
    },
    "accelerator": "GPU"
  },
  "cells": [
    {
      "cell_type": "markdown",
      "metadata": {
        "id": "view-in-github",
        "colab_type": "text"
      },
      "source": [
        "<a href=\"https://colab.research.google.com/github/bukhariaujih/KAU-training/blob/master/classification.ipynb\" target=\"_parent\"><img src=\"https://colab.research.google.com/assets/colab-badge.svg\" alt=\"Open In Colab\"/></a>"
      ]
    },
    {
      "cell_type": "code",
      "metadata": {
        "id": "0f4XZy93wTce",
        "colab_type": "code",
        "outputId": "dcc6e0e3-56e1-402e-8018-0fc46d0ae6d8",
        "colab": {
          "base_uri": "https://localhost:8080/",
          "height": 34
        }
      },
      "source": [
        "# !git clone https://github.com/bukhariaujih/KAU-training.git"
      ],
      "execution_count": 0,
      "outputs": [
        {
          "output_type": "stream",
          "text": [
            "fatal: destination path 'KAU-training' already exists and is not an empty directory.\n"
          ],
          "name": "stdout"
        }
      ]
    },
    {
      "cell_type": "code",
      "metadata": {
        "id": "fDVskqJA9VM7",
        "colab_type": "code",
        "outputId": "d6986f1a-e6f5-481f-cd8e-2fa8b5a6b01f",
        "colab": {
          "base_uri": "https://localhost:8080/",
          "height": 122
        }
      },
      "source": [
        "# Mount data\n",
        "from google.colab import drive\n",
        "drive.mount('/content/drive')"
      ],
      "execution_count": 13,
      "outputs": [
        {
          "output_type": "stream",
          "text": [
            "Go to this URL in a browser: https://accounts.google.com/o/oauth2/auth?client_id=947318989803-6bn6qk8qdgf4n4g3pfee6491hc0brc4i.apps.googleusercontent.com&redirect_uri=urn%3Aietf%3Awg%3Aoauth%3A2.0%3Aoob&scope=email%20https%3A%2F%2Fwww.googleapis.com%2Fauth%2Fdocs.test%20https%3A%2F%2Fwww.googleapis.com%2Fauth%2Fdrive%20https%3A%2F%2Fwww.googleapis.com%2Fauth%2Fdrive.photos.readonly%20https%3A%2F%2Fwww.googleapis.com%2Fauth%2Fpeopleapi.readonly&response_type=code\n",
            "\n",
            "Enter your authorization code:\n",
            "··········\n",
            "Mounted at /content/drive\n"
          ],
          "name": "stdout"
        }
      ]
    },
    {
      "cell_type": "code",
      "metadata": {
        "id": "e3qi4IJ5xQaq",
        "colab_type": "code",
        "colab": {}
      },
      "source": [
        "# Install depedencies packages\n",
        "\n",
        "# !pip install scikit-plot\n",
        "# !pip install pillow\n",
        "# !pip install scipy\n",
        "# !pip install scikit-learn\n",
        "# !apt-get upgrade -y\n",
        "# !apt-get update\n",
        "# !apt-get install -y libsm6 libxext6 libxrender-dev\n",
        "# !pip install opencv-python==3.4.2.17"
      ],
      "execution_count": 0,
      "outputs": []
    },
    {
      "cell_type": "code",
      "metadata": {
        "id": "o5cLRHunyqVp",
        "colab_type": "code",
        "colab": {}
      },
      "source": [
        "# Initialization\n",
        "from tensorflow.keras import optimizers\n",
        "from tensorflow.keras.models import Model, load_model\n",
        "from tensorflow.keras.preprocessing import image\n",
        "from tensorflow.keras.optimizers import SGD, Adam, RMSprop\n",
        "from tensorflow.keras.applications.inception_v3 import InceptionV3, preprocess_input, decode_predictions\n",
        "from tensorflow.keras.applications.vgg19 import VGG19, preprocess_input, decode_predictions\n",
        "from tensorflow.keras.applications.vgg16 import VGG16, preprocess_input, decode_predictions\n",
        "from tensorflow.keras.layers import Dense, GlobalAveragePooling2D\n",
        "from tensorflow.keras.callbacks import ModelCheckpoint, TensorBoard, CSVLogger\n",
        "from tensorflow.keras.preprocessing.image import ImageDataGenerator \n",
        "from tensorflow.keras.utils import to_categorical\n",
        "\n",
        "from sklearn.model_selection import train_test_split\n",
        "from sklearn.metrics import classification_report, roc_curve, confusion_matrix\n",
        "\n",
        "import cv2\n",
        "\n",
        "import scikitplot as skplt\n",
        "\n",
        "import os, sys, glob\n",
        "\n",
        "import matplotlib.pyplot as plt\n",
        "\n",
        "import numpy as np\n",
        "\n",
        "%matplotlib inline"
      ],
      "execution_count": 0,
      "outputs": []
    },
    {
      "cell_type": "code",
      "metadata": {
        "id": "g5LTgOcMyr3N",
        "colab_type": "code",
        "colab": {}
      },
      "source": [
        "# Routine function\n",
        "def check_dir(path):\n",
        "    if os.path.exists(path):\n",
        "        print(\"Dir already exist\")\n",
        "    \n",
        "    elif sys.platform == 'win32':\n",
        "        os.system('mkdir ' + path)\n",
        "    \n",
        "    else:\n",
        "        os.system('mkdir -p ' + path)\n",
        "        print('New Path created : ', path)\n",
        "    return \n",
        "    \n",
        "def add_new_last_layer(base_model, nb_classes):\n",
        "    print('Add last layer to the convnet..')\n",
        "    x = base_model.output\n",
        "    x = GlobalAveragePooling2D()(x)\n",
        "    x = Dense(nb_classes, activation='relu')(x)  \n",
        "    predictions = Dense(nb_classes, activation='softmax')(x) \n",
        "    model = Model(inputs=base_model.input, \n",
        "                  outputs=predictions) \n",
        "    return model\n",
        "\n",
        "def get_im(path):\n",
        "    img = cv2.imread(path, 0)\n",
        "    resized = cv2.resize(img, (224, 224))\n",
        "    return resized\n",
        "\n",
        "def load_train():\n",
        "    nb_classes = 2\n",
        "    img_rows, img_cols = 224, 224\n",
        "    X_train = []\n",
        "    y_train = []\n",
        "\n",
        "    root = './drive/My Drive/training_1/Data/image'\n",
        "    path= root + '/dme/*.png'\n",
        "    files = glob.glob(path)\n",
        "    for fl in files:\n",
        "        img = get_im(fl)\n",
        "        X_train.append(img)\n",
        "        y_train.append(1)\n",
        "\n",
        "    path=root + '/normal/*.png'\n",
        "    files = glob.glob(path)\n",
        "    for fl in files:\n",
        "        img = get_im(fl)\n",
        "        X_train.append(img)\n",
        "        y_train.append(0)\n",
        "\n",
        "    X_train = np.array(X_train, dtype=np.uint8)\n",
        "    y_train = np.array(y_train, dtype=np.uint8)\n",
        "    X_train = X_train.reshape(X_train.shape[0], img_rows, img_cols, 1)\n",
        "    # train_data = train_data.transpose((0, 3, 1, 2))\n",
        "    y_train = to_categorical(y_train, nb_classes)\n",
        "    X_train = X_train.astype('float32')\n",
        "    X_train /= 255\n",
        "    print('Train shape:', X_train.shape)\n",
        "    print(X_train.shape[0], 'train samples')\n",
        "\n",
        "    return X_train, y_train\n",
        "\n",
        "def split_validation_set(train, target, test_size):\n",
        "    random_state = 51\n",
        "    X_train, X_test, y_train, y_test = train_test_split(train, \n",
        "                                                        target, \n",
        "                                                        test_size=test_size, \n",
        "                                                        random_state=random_state)\n",
        "    print('Split train: ', len(X_train))\n",
        "    print('Split valid: ', len(X_test))\n",
        "    return X_train, X_test, y_train, y_test"
      ],
      "execution_count": 0,
      "outputs": []
    },
    {
      "cell_type": "code",
      "metadata": {
        "id": "A7GYfzduyvE7",
        "colab_type": "code",
        "colab": {
          "base_uri": "https://localhost:8080/",
          "height": 306
        },
        "outputId": "887095b2-9a06-4c95-8374-56b9fac51dd0"
      },
      "source": [
        "# Load training data\n",
        "train_data, train_target = load_train()"
      ],
      "execution_count": 27,
      "outputs": [
        {
          "output_type": "error",
          "ename": "KeyboardInterrupt",
          "evalue": "ignored",
          "traceback": [
            "\u001b[0;31m---------------------------------------------------------------------------\u001b[0m",
            "\u001b[0;31mKeyboardInterrupt\u001b[0m                         Traceback (most recent call last)",
            "\u001b[0;32m<ipython-input-27-10fe8f32512b>\u001b[0m in \u001b[0;36m<module>\u001b[0;34m()\u001b[0m\n\u001b[0;32m----> 1\u001b[0;31m \u001b[0mtrain_data\u001b[0m\u001b[0;34m,\u001b[0m \u001b[0mtrain_target\u001b[0m \u001b[0;34m=\u001b[0m \u001b[0mload_train\u001b[0m\u001b[0;34m(\u001b[0m\u001b[0;34m)\u001b[0m\u001b[0;34m\u001b[0m\u001b[0;34m\u001b[0m\u001b[0m\n\u001b[0m",
            "\u001b[0;32m<ipython-input-26-840ec0d3fc4d>\u001b[0m in \u001b[0;36mload_train\u001b[0;34m()\u001b[0m\n\u001b[1;32m     45\u001b[0m     \u001b[0mfiles\u001b[0m \u001b[0;34m=\u001b[0m \u001b[0mglob\u001b[0m\u001b[0;34m.\u001b[0m\u001b[0mglob\u001b[0m\u001b[0;34m(\u001b[0m\u001b[0mpath\u001b[0m\u001b[0;34m)\u001b[0m\u001b[0;34m\u001b[0m\u001b[0;34m\u001b[0m\u001b[0m\n\u001b[1;32m     46\u001b[0m     \u001b[0;32mfor\u001b[0m \u001b[0mfl\u001b[0m \u001b[0;32min\u001b[0m \u001b[0mfiles\u001b[0m\u001b[0;34m:\u001b[0m\u001b[0;34m\u001b[0m\u001b[0;34m\u001b[0m\u001b[0m\n\u001b[0;32m---> 47\u001b[0;31m         \u001b[0mimg\u001b[0m \u001b[0;34m=\u001b[0m \u001b[0mget_im\u001b[0m\u001b[0;34m(\u001b[0m\u001b[0mfl\u001b[0m\u001b[0;34m)\u001b[0m\u001b[0;34m\u001b[0m\u001b[0;34m\u001b[0m\u001b[0m\n\u001b[0m\u001b[1;32m     48\u001b[0m         \u001b[0mX_train\u001b[0m\u001b[0;34m.\u001b[0m\u001b[0mappend\u001b[0m\u001b[0;34m(\u001b[0m\u001b[0mimg\u001b[0m\u001b[0;34m)\u001b[0m\u001b[0;34m\u001b[0m\u001b[0;34m\u001b[0m\u001b[0m\n\u001b[1;32m     49\u001b[0m         \u001b[0my_train\u001b[0m\u001b[0;34m.\u001b[0m\u001b[0mappend\u001b[0m\u001b[0;34m(\u001b[0m\u001b[0;36m0\u001b[0m\u001b[0;34m)\u001b[0m\u001b[0;34m\u001b[0m\u001b[0;34m\u001b[0m\u001b[0m\n",
            "\u001b[0;32m<ipython-input-26-840ec0d3fc4d>\u001b[0m in \u001b[0;36mget_im\u001b[0;34m(path)\u001b[0m\n\u001b[1;32m     23\u001b[0m \u001b[0;32mdef\u001b[0m \u001b[0mget_im\u001b[0m\u001b[0;34m(\u001b[0m\u001b[0mpath\u001b[0m\u001b[0;34m)\u001b[0m\u001b[0;34m:\u001b[0m\u001b[0;34m\u001b[0m\u001b[0;34m\u001b[0m\u001b[0m\n\u001b[1;32m     24\u001b[0m     \u001b[0;31m# Load as grayscale\u001b[0m\u001b[0;34m\u001b[0m\u001b[0;34m\u001b[0m\u001b[0;34m\u001b[0m\u001b[0m\n\u001b[0;32m---> 25\u001b[0;31m     \u001b[0mimg\u001b[0m \u001b[0;34m=\u001b[0m \u001b[0mcv2\u001b[0m\u001b[0;34m.\u001b[0m\u001b[0mimread\u001b[0m\u001b[0;34m(\u001b[0m\u001b[0mpath\u001b[0m\u001b[0;34m,\u001b[0m \u001b[0;36m0\u001b[0m\u001b[0;34m)\u001b[0m\u001b[0;34m\u001b[0m\u001b[0;34m\u001b[0m\u001b[0m\n\u001b[0m\u001b[1;32m     26\u001b[0m     \u001b[0;31m# Reduce size\u001b[0m\u001b[0;34m\u001b[0m\u001b[0;34m\u001b[0m\u001b[0;34m\u001b[0m\u001b[0m\n\u001b[1;32m     27\u001b[0m     \u001b[0mresized\u001b[0m \u001b[0;34m=\u001b[0m \u001b[0mcv2\u001b[0m\u001b[0;34m.\u001b[0m\u001b[0mresize\u001b[0m\u001b[0;34m(\u001b[0m\u001b[0mimg\u001b[0m\u001b[0;34m,\u001b[0m \u001b[0;34m(\u001b[0m\u001b[0;36m224\u001b[0m\u001b[0;34m,\u001b[0m \u001b[0;36m224\u001b[0m\u001b[0;34m)\u001b[0m\u001b[0;34m)\u001b[0m\u001b[0;34m\u001b[0m\u001b[0;34m\u001b[0m\u001b[0m\n",
            "\u001b[0;31mKeyboardInterrupt\u001b[0m: "
          ]
        }
      ]
    },
    {
      "cell_type": "code",
      "metadata": {
        "id": "sabs2VcCzXD7",
        "colab_type": "code",
        "colab": {}
      },
      "source": [
        "# Split training data \n",
        "X_train, X_test, Y_train, Y_test = split_validation_set(train_data, \n",
        "                                                        train_target, \n",
        "                                                        0.2)"
      ],
      "execution_count": 0,
      "outputs": []
    },
    {
      "cell_type": "code",
      "metadata": {
        "id": "I_Q2YL7vzZba",
        "colab_type": "code",
        "colab": {}
      },
      "source": [
        "# Build base network\n",
        "base_model = VGG19(include_top=False, \n",
        "                   input_shape=(224,224,1), \n",
        "                   weights=None)\n",
        "model_name = 'VGG19'\n",
        "\n",
        "base_model.summary()"
      ],
      "execution_count": 0,
      "outputs": []
    },
    {
      "cell_type": "code",
      "metadata": {
        "id": "OF72qD-2zZoq",
        "colab_type": "code",
        "colab": {}
      },
      "source": [
        "# Add the new last layer to the network \n",
        "nb_classes = 2\n",
        "model = add_new_last_layer(base_model, nb_classes)\n",
        "\n",
        "learning_rate = 0.0001\n",
        "decay_rate = learning_rate / 100\n",
        "momentum = 0.8\n",
        "SGD = optimizers.SGD(lr=learning_rate, \n",
        "                     momentum=momentum, \n",
        "                     decay=decay_rate, nesterov=False)\n",
        "\n",
        "model.compile(optimizer=RMSprop(lr=learning_rate),\n",
        "              loss='categorical_crossentropy',\n",
        "              metrics=['accuracy'])\n",
        "\n",
        "model.summary()"
      ],
      "execution_count": 0,
      "outputs": []
    },
    {
      "cell_type": "code",
      "metadata": {
        "id": "MAlW5jbtzZty",
        "colab_type": "code",
        "colab": {}
      },
      "source": [
        "# Prepare tensorboard\n",
        "TB_LOG = './output/logs_tb'\n",
        "check_dir(TB_LOG)\n",
        "\n",
        "tensorboard = TensorBoard(log_dir=TB_LOG,\n",
        "                          histogram_freq=0,\n",
        "                          batch_size=32,\n",
        "                          write_graph=True,\n",
        "                          write_grads=False,\n",
        "                          write_images=False,\n",
        "                          embeddings_freq=0,\n",
        "                          embeddings_layer_names=None,\n",
        "                          embeddings_metadata=None)"
      ],
      "execution_count": 0,
      "outputs": []
    },
    {
      "cell_type": "code",
      "metadata": {
        "id": "Gr1ngghMzg9y",
        "colab_type": "code",
        "colab": {}
      },
      "source": [
        "# Train and save network\n",
        "history = model.fit(X_train, Y_train, \n",
        "                    batch_size=32, \n",
        "                    epochs=5, \n",
        "                    verbose=1, \n",
        "                    validation_data=(X_test, Y_test))\n",
        "model.save('./output/my_model.h5') \n",
        "del model "
      ],
      "execution_count": 0,
      "outputs": []
    },
    {
      "cell_type": "code",
      "metadata": {
        "id": "jMux3DMjzhLM",
        "colab_type": "code",
        "colab": {}
      },
      "source": [
        "# summarize history for accuracy\n",
        "plt.plot(history.history['acc'])\n",
        "plt.title('model accuracy')\n",
        "plt.ylabel('accuracy')\n",
        "plt.xlabel('epoch')\n",
        "plt.legend(['train', 'test'], loc='upper left')\n",
        "plt.show()"
      ],
      "execution_count": 0,
      "outputs": []
    },
    {
      "cell_type": "code",
      "metadata": {
        "id": "rrUVtciizZxy",
        "colab_type": "code",
        "colab": {}
      },
      "source": [
        "# summarize history for loss\n",
        "plt.plot(history.history['loss'])\n",
        "plt.title('model loss')\n",
        "plt.ylabel('loss')\n",
        "plt.xlabel('epoch')\n",
        "plt.legend(['train', 'test'], loc='upper left')\n",
        "plt.show()"
      ],
      "execution_count": 0,
      "outputs": []
    },
    {
      "cell_type": "code",
      "metadata": {
        "id": "YyBaA8GrzZ10",
        "colab_type": "code",
        "colab": {}
      },
      "source": [
        "# Load trained network\n",
        "model = load_model('./output/my_model.h5')"
      ],
      "execution_count": 0,
      "outputs": []
    },
    {
      "cell_type": "code",
      "metadata": {
        "id": "a7pbS6Srzn7U",
        "colab_type": "code",
        "colab": {}
      },
      "source": [
        "# Do prediction on test data\n",
        "Y_pred=model.predict([X_test])"
      ],
      "execution_count": 0,
      "outputs": []
    },
    {
      "cell_type": "code",
      "metadata": {
        "id": "xtGVqBcuzoFD",
        "colab_type": "code",
        "colab": {}
      },
      "source": [
        "# Performance report\n",
        "target_names = [\"normal\", \"dme\"]\n",
        "print(classification_report(np.argmax(Y_test, axis=1), \n",
        "                            np.argmax(Y_pred, axis=1), \n",
        "                            target_names=target_names))"
      ],
      "execution_count": 0,
      "outputs": []
    },
    {
      "cell_type": "code",
      "metadata": {
        "id": "UHk_QbcwzoNU",
        "colab_type": "code",
        "colab": {}
      },
      "source": [
        "# Plot roc curve\n",
        "skplt.metrics.plot_roc_curve(np.argmax(Y_test,axis=1), Y_pred)\n",
        "plt.show()"
      ],
      "execution_count": 0,
      "outputs": []
    },
    {
      "cell_type": "code",
      "metadata": {
        "id": "A47m4hEezoVT",
        "colab_type": "code",
        "colab": {}
      },
      "source": [
        "# Show confusion matrix\n",
        "confusion_matrix(np.argmax(Y_test,axis=1), \n",
        "                 np.argmax(Y_pred,axis=1))\n",
        "model.metric()"
      ],
      "execution_count": 0,
      "outputs": []
    },
    {
      "cell_type": "code",
      "metadata": {
        "id": "V0HAfD3nzocj",
        "colab_type": "code",
        "colab": {}
      },
      "source": [
        ""
      ],
      "execution_count": 0,
      "outputs": []
    },
    {
      "cell_type": "code",
      "metadata": {
        "id": "z4KSXhHXzoj8",
        "colab_type": "code",
        "colab": {}
      },
      "source": [
        ""
      ],
      "execution_count": 0,
      "outputs": []
    }
  ]
}