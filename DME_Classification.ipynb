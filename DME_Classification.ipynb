{
  "nbformat": 4,
  "nbformat_minor": 0,
  "metadata": {
    "colab": {
      "name": "DME_Classification.ipynb",
      "version": "0.3.2",
      "provenance": [],
      "collapsed_sections": [],
      "include_colab_link": true
    },
    "kernelspec": {
      "name": "python3",
      "display_name": "Python 3"
    },
    "accelerator": "GPU"
  },
  "cells": [
    {
      "cell_type": "markdown",
      "metadata": {
        "id": "view-in-github",
        "colab_type": "text"
      },
      "source": [
        "<a href=\"https://colab.research.google.com/github/bukhariaujih/KAU-training/blob/master/DME_Classification.ipynb\" target=\"_parent\"><img src=\"https://colab.research.google.com/assets/colab-badge.svg\" alt=\"Open In Colab\"/></a>"
      ]
    },
    {
      "cell_type": "code",
      "metadata": {
        "id": "ClIkxZpfjsti",
        "colab_type": "code",
        "colab": {}
      },
      "source": [
        "# Mount data\n",
        "from google.colab import drive\n",
        "drive.mount('/content/drive')"
      ],
      "execution_count": 0,
      "outputs": []
    },
    {
      "cell_type": "code",
      "metadata": {
        "id": "f1ZwXSpfkkNy",
        "colab_type": "code",
        "colab": {}
      },
      "source": [
        "#Install depedencies packages\n",
        "\n",
        "# !pip install scikit-plot\n",
        "# !pip install pillow\n",
        "# !pip install scipy\n",
        "# !pip install scikit-learn\n",
        "# !apt-get update\n",
        "# !apt-get upgrade -y\n",
        "# !apt-get install -y libsm6 libxext6 libxrender-dev\n",
        "# !pip install opencv-python==3.4.2.17"
      ],
      "execution_count": 0,
      "outputs": []
    },
    {
      "cell_type": "code",
      "metadata": {
        "id": "4fMieUVIkIiM",
        "colab_type": "code",
        "colab": {}
      },
      "source": [
        "from tensorflow.keras import optimizers\n",
        "from tensorflow.keras.models import Model, load_model\n",
        "from tensorflow.keras.optimizers import SGD, Adam, RMSprop\n",
        "from tensorflow.keras.applications.inception_v3 import InceptionV3, preprocess_input, decode_predictions\n",
        "from tensorflow.keras.applications.vgg19 import VGG19, preprocess_input, decode_predictions\n",
        "from tensorflow.keras.applications.vgg16 import VGG16, preprocess_input, decode_predictions\n",
        "from tensorflow.keras.applications import ResNet50\n",
        "from tensorflow.keras.layers import Dense, GlobalAveragePooling2D, BatchNormalization, Dropout, Activation\n",
        "from tensorflow.keras.callbacks import TensorBoard\n",
        "\n",
        "from sklearn.model_selection import train_test_split\n",
        "from sklearn.metrics import classification_report, roc_curve, confusion_matrix\n",
        "import imutils \n",
        "import scikitplot as skplt\n",
        "\n",
        "import os\n",
        "from google.colab.patches import cv2_imshow\n",
        "import matplotlib.pyplot as plt\n",
        "\n",
        "import numpy as np"
      ],
      "execution_count": 0,
      "outputs": []
    },
    {
      "cell_type": "code",
      "metadata": {
        "id": "6DP5yT-ykBGn",
        "colab_type": "code",
        "colab": {}
      },
      "source": [
        "# Load training data\n",
        "data = './drive/My Drive/training_1/Data/image/data.npy'\n",
        "target = './drive/My Drive/training_1/Data/image/target.npy'\n",
        "data = np.load(data)\n",
        "target = np.load(target)\n",
        "\n",
        "data = np.squeeze(data, 3)\n",
        "data = np.repeat(data[..., np.newaxis], 3, -1)\n"
      ],
      "execution_count": 0,
      "outputs": []
    },
    {
      "cell_type": "code",
      "metadata": {
        "id": "4vAZr4tXk9Ob",
        "colab_type": "code",
        "colab": {}
      },
      "source": [
        "data.shape"
      ],
      "execution_count": 0,
      "outputs": []
    },
    {
      "cell_type": "code",
      "metadata": {
        "id": "aeck6hL5m6Ir",
        "colab_type": "code",
        "colab": {}
      },
      "source": [
        "def split_validation_set(train, target, test_size):\n",
        "    random_state = 123\n",
        "    X_train, X_test, y_train, y_test = train_test_split(train, \n",
        "                                                        target, \n",
        "                                                        test_size=test_size, \n",
        "                                                        random_state=random_state,\n",
        "                                                        stratify=target)\n",
        "    print('Split train: ', len(X_train))\n",
        "    print('Split valid: ', len(X_test))\n",
        "    return X_train, X_test, y_train, y_test"
      ],
      "execution_count": 0,
      "outputs": []
    },
    {
      "cell_type": "code",
      "metadata": {
        "id": "-AK6sc7Mm--J",
        "colab_type": "code",
        "colab": {}
      },
      "source": [
        "# Split training data \n",
        "X_train, X_test, Y_train, Y_test = split_validation_set(data, \n",
        "                                                        target, \n",
        "                                                        0.2)"
      ],
      "execution_count": 0,
      "outputs": []
    },
    {
      "cell_type": "code",
      "metadata": {
        "id": "vxiPxzI-kBTE",
        "colab_type": "code",
        "colab": {}
      },
      "source": [
        "# define model \n"
      ],
      "execution_count": 0,
      "outputs": []
    },
    {
      "cell_type": "code",
      "metadata": {
        "id": "YFsXzpBZpFlb",
        "colab_type": "code",
        "colab": {}
      },
      "source": [
        "model.summary()"
      ],
      "execution_count": 0,
      "outputs": []
    },
    {
      "cell_type": "code",
      "metadata": {
        "id": "vk6thxa9kBVY",
        "colab_type": "code",
        "colab": {}
      },
      "source": [
        "# training phase:\n",
        "\n",
        "history = model.fit(X_train, Y_train, \n",
        "                    batch_size=32, \n",
        "                    epochs=20, \n",
        "                    verbose=1, \n",
        "                    validation_data=(X_test, Y_test),\n",
        "                    shuffle=True)\n",
        "model.save('/content/drive/My Drive/training_1/Code/image_medical/output/my_model.h5')"
      ],
      "execution_count": 0,
      "outputs": []
    },
    {
      "cell_type": "code",
      "metadata": {
        "id": "U_bwIYbakBXt",
        "colab_type": "code",
        "colab": {}
      },
      "source": [
        "# Model performance evaluation:\n",
        "\n",
        "# summarize history for accuracy\n",
        "plt.plot(history.history['acc'])\n",
        "plt.plot(history.history['val_acc'])\n",
        "plt.title('model accuracy')\n",
        "plt.ylabel('accuracy')\n",
        "plt.xlabel('epoch')\n",
        "plt.legend(['train', 'test'], loc='lower right')\n",
        "plt.show()\n",
        "\n",
        "# summarize history for loss\n",
        "plt.plot(history.history['loss'])\n",
        "plt.plot(history.history['val_loss'])\n",
        "plt.title('model loss')\n",
        "plt.ylabel('loss')\n",
        "plt.xlabel('epoch')\n",
        "plt.legend(['train', 'test'], loc='upper right')\n",
        "plt.show()"
      ],
      "execution_count": 0,
      "outputs": []
    },
    {
      "cell_type": "code",
      "metadata": {
        "id": "MkVMFPbSoRm5",
        "colab_type": "code",
        "colab": {}
      },
      "source": [
        "# Load trained network\n",
        "model = load_model('/content/drive/My Drive/training_1/Code/image_medical/output/my_model.h5')"
      ],
      "execution_count": 0,
      "outputs": []
    },
    {
      "cell_type": "code",
      "metadata": {
        "id": "1WLcUYYeoSFh",
        "colab_type": "code",
        "colab": {}
      },
      "source": [
        "# Do prediction on test data\n",
        "Y_pred=model.predict([X_test])"
      ],
      "execution_count": 0,
      "outputs": []
    },
    {
      "cell_type": "code",
      "metadata": {
        "id": "bAqhq0aS0fHt",
        "colab_type": "code",
        "colab": {}
      },
      "source": [
        "Y_pred.shape, Y_test.shape"
      ],
      "execution_count": 0,
      "outputs": []
    },
    {
      "cell_type": "code",
      "metadata": {
        "id": "aQCdOWDXoSJ7",
        "colab_type": "code",
        "colab": {}
      },
      "source": [
        "# Performance report:\n",
        "\n",
        "target_names = [\"normal\", \"dme\"]\n",
        "print(classification_report(np.argmax(Y_test, axis=1), \n",
        "                            np.argmax(Y_pred, axis=1), \n",
        "                            target_names=target_names))"
      ],
      "execution_count": 0,
      "outputs": []
    },
    {
      "cell_type": "code",
      "metadata": {
        "id": "qIvS3oWQoSPC",
        "colab_type": "code",
        "colab": {}
      },
      "source": [
        "# Plot roc curve:\n",
        "\n",
        "skplt.metrics.plot_roc_curve(np.argmax(Y_test, axis=1), Y_pred)\n",
        "plt.show()"
      ],
      "execution_count": 0,
      "outputs": []
    },
    {
      "cell_type": "code",
      "metadata": {
        "id": "S5Yu0PCowKlP",
        "colab_type": "code",
        "colab": {}
      },
      "source": [
        "# Show confusion matrix\n",
        "confusion_matrix(np.argmax(Y_test,axis=1), \n",
        "                 np.argmax(Y_pred,axis=1))\n"
      ],
      "execution_count": 0,
      "outputs": []
    },
    {
      "cell_type": "code",
      "metadata": {
        "id": "T__4Lgl4Zjmg",
        "colab_type": "code",
        "colab": {}
      },
      "source": [
        "import matplotlib.pyplot as plt\n",
        "from matplotlib import gridspec\n",
        "\n",
        "# draw the label on the image\n",
        "for i in range(5):\n",
        "  # classify the input image\n",
        "  (normal, dme) = model.predict(X_test)[i]\n",
        "  label = \"NORMAL\" if normal > dme else \"DME\"\n",
        "  proba = dme if dme > normal else normal\n",
        "  label = \"{}: {:.2f}%\".format(label, proba * 100)\n",
        "  \n",
        "  image = (X_test[i] * 255).round().astype(np.uint8)\n",
        "  cv2.putText(image, label, (5, 15),  cv2.FONT_HERSHEY_SIMPLEX, 0.4, (0, 255, 0), 2)\n",
        "  \n",
        "  # show the output image\n",
        "  cv2_imshow(image)\n",
        "  "
      ],
      "execution_count": 0,
      "outputs": []
    },
    {
      "cell_type": "code",
      "metadata": {
        "id": "Bg-TQkKtZjrs",
        "colab_type": "code",
        "colab": {}
      },
      "source": [
        "Predicted = np.argmax(Y_pred[:30],axis=1) \n",
        "Predicted"
      ],
      "execution_count": 0,
      "outputs": []
    },
    {
      "cell_type": "code",
      "metadata": {
        "id": "4npeO9wvrN5w",
        "colab_type": "code",
        "colab": {}
      },
      "source": [
        "GroundTruth = np.argmax(Y_test[:30],axis=1)\n",
        "GroundTruth"
      ],
      "execution_count": 0,
      "outputs": []
    },
    {
      "cell_type": "code",
      "metadata": {
        "id": "3lljv2W-q-ft",
        "colab_type": "code",
        "colab": {}
      },
      "source": [
        "GroundTruth == Predicted"
      ],
      "execution_count": 0,
      "outputs": []
    },
    {
      "cell_type": "code",
      "metadata": {
        "id": "PjtSyHESrfl7",
        "colab_type": "code",
        "colab": {}
      },
      "source": [
        ""
      ],
      "execution_count": 0,
      "outputs": []
    }
  ]
}